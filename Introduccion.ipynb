{
  "nbformat": 4,
  "nbformat_minor": 0,
  "metadata": {
    "colab": {
      "name": "Introduccion.ipynb",
      "provenance": [],
      "collapsed_sections": [],
      "authorship_tag": "ABX9TyNPEtt+gh2rZ6Runq8/BB+E",
      "include_colab_link": true
    },
    "kernelspec": {
      "name": "python3",
      "display_name": "Python 3"
    },
    "accelerator": "GPU"
  },
  "cells": [
    {
      "cell_type": "markdown",
      "metadata": {
        "id": "view-in-github",
        "colab_type": "text"
      },
      "source": [
        "<a href=\"https://colab.research.google.com/github/elpinchepastel/IA/blob/master/Introduccion.ipynb\" target=\"_parent\"><img src=\"https://colab.research.google.com/assets/colab-badge.svg\" alt=\"Open In Colab\"/></a>"
      ]
    },
    {
      "cell_type": "code",
      "metadata": {
        "id": "3BHICcl-mk_P",
        "colab_type": "code",
        "colab": {}
      },
      "source": [
        "# tensorflow_version\n",
        "\n",
        "import tensorflow as tf\n",
        "print(\"GPU Available: \", tf.test.is_gpu_available())"
      ],
      "execution_count": 0,
      "outputs": []
    },
    {
      "cell_type": "code",
      "metadata": {
        "id": "DuyVxtCsmsVh",
        "colab_type": "code",
        "colab": {}
      },
      "source": [
        "print(tf.__version__)"
      ],
      "execution_count": 0,
      "outputs": []
    },
    {
      "cell_type": "code",
      "metadata": {
        "id": "H_R3O9hZm6Ve",
        "colab_type": "code",
        "colab": {}
      },
      "source": [
        "# tensorflow_version 2.x\n",
        "\n",
        "import tensorflow as tf\n",
        "\n",
        "from tensorflow import keras\n",
        "\n",
        "print(tf.keras.__version__)"
      ],
      "execution_count": 0,
      "outputs": []
    },
    {
      "cell_type": "markdown",
      "metadata": {
        "id": "R9KLLrF4qq0S",
        "colab_type": "text"
      },
      "source": [
        "**Conceptos básicos de Python 3**"
      ]
    },
    {
      "cell_type": "code",
      "metadata": {
        "id": "DZ87vmc0qzHe",
        "colab_type": "code",
        "colab": {}
      },
      "source": [
        "help() # Ayuda"
      ],
      "execution_count": 0,
      "outputs": []
    },
    {
      "cell_type": "code",
      "metadata": {
        "id": "K2WjSuSwrLIb",
        "colab_type": "code",
        "colab": {}
      },
      "source": [
        "dir(str) # Métodos de un objeto"
      ],
      "execution_count": 0,
      "outputs": []
    },
    {
      "cell_type": "code",
      "metadata": {
        "id": "RtJ2ecgcq5Tk",
        "colab_type": "code",
        "colab": {}
      },
      "source": [
        "# Importar librerias y sus funciones\n",
        "from random import randint\n",
        "randomint = randint(1, 100)\n",
        "print(randomint)\n",
        "\n",
        "import random\n",
        "randomint = random.randint(1, 100)\n",
        "print(randomint)"
      ],
      "execution_count": 0,
      "outputs": []
    },
    {
      "cell_type": "code",
      "metadata": {
        "id": "YdGytKU5rg08",
        "colab_type": "code",
        "colab": {}
      },
      "source": [
        "# Variables\n",
        "x = 10\n",
        "print(x)\n",
        "print(type(x))"
      ],
      "execution_count": 0,
      "outputs": []
    },
    {
      "cell_type": "code",
      "metadata": {
        "id": "ySf87Iwkrx7w",
        "colab_type": "code",
        "colab": {}
      },
      "source": [
        "x = \"hola\"\n",
        "print(x)\n",
        "print(type(x))"
      ],
      "execution_count": 0,
      "outputs": []
    },
    {
      "cell_type": "code",
      "metadata": {
        "id": "qsV89uIttS7a",
        "colab_type": "code",
        "colab": {}
      },
      "source": [
        "x = 10.0\n",
        "print(x)\n",
        "print(type(x))"
      ],
      "execution_count": 0,
      "outputs": []
    },
    {
      "cell_type": "code",
      "metadata": {
        "id": "dEIspY1MtcSD",
        "colab_type": "code",
        "colab": {}
      },
      "source": [
        "x = True\n",
        "print(x)\n",
        "print(type(x))"
      ],
      "execution_count": 0,
      "outputs": []
    },
    {
      "cell_type": "code",
      "metadata": {
        "id": "vyqpd92htgLI",
        "colab_type": "code",
        "colab": {}
      },
      "source": [
        "# Operaciones\n",
        "print(5/2)\n",
        "print(5//2)\n",
        "print(5%2)\n",
        "print(5**2)"
      ],
      "execution_count": 0,
      "outputs": []
    },
    {
      "cell_type": "code",
      "metadata": {
        "id": "uePJR1hpt5aZ",
        "colab_type": "code",
        "colab": {}
      },
      "source": [
        "IntegerVar = 10\n",
        "IntegerVar += 10\n",
        "print(IntegerVar)"
      ],
      "execution_count": 0,
      "outputs": []
    },
    {
      "cell_type": "code",
      "metadata": {
        "id": "9fhEdYKMuH97",
        "colab_type": "code",
        "colab": {}
      },
      "source": [
        "StringVar = \"Deep\"\n",
        "StringVar += \" Learning\"\n",
        "print(StringVar)"
      ],
      "execution_count": 0,
      "outputs": []
    },
    {
      "cell_type": "code",
      "metadata": {
        "id": "HAk3SMtyuSeb",
        "colab_type": "code",
        "colab": {}
      },
      "source": [
        "IntegerVar, StringVar = StringVar, IntegerVar\n",
        "print(IntegerVar)\n",
        "print(StringVar)"
      ],
      "execution_count": 0,
      "outputs": []
    },
    {
      "cell_type": "code",
      "metadata": {
        "id": "zXCQwWzjuaSH",
        "colab_type": "code",
        "colab": {}
      },
      "source": [
        "# Listas\n",
        "x = [5, \"hello\", 1.8]\n",
        "print(x) \n",
        "len(x)"
      ],
      "execution_count": 0,
      "outputs": []
    },
    {
      "cell_type": "code",
      "metadata": {
        "id": "0lik9RqcupLZ",
        "colab_type": "code",
        "colab": {}
      },
      "source": [
        "x.append(100)\n",
        "print(x)\n",
        "print(len(x))"
      ],
      "execution_count": 0,
      "outputs": []
    },
    {
      "cell_type": "code",
      "metadata": {
        "id": "DWElVqHXuurL",
        "colab_type": "code",
        "colab": {}
      },
      "source": [
        "x[1] = \"deep\"\n",
        "print(x)"
      ],
      "execution_count": 0,
      "outputs": []
    },
    {
      "cell_type": "code",
      "metadata": {
        "id": "Y9ycslN4u96b",
        "colab_type": "code",
        "colab": {}
      },
      "source": [
        "y = [2.1, \"learning\"]\n",
        "z = x + y\n",
        "print(z)"
      ],
      "execution_count": 0,
      "outputs": []
    },
    {
      "cell_type": "code",
      "metadata": {
        "id": "A_VT5L0lvHUX",
        "colab_type": "code",
        "colab": {}
      },
      "source": [
        "x = [5, \"deep\", 1.8]\n",
        "print(\"primer elemento --> x[0]: \", x[0])\n",
        "print(\"segundo elemento --> x[1]: \", x[1])\n",
        "print(\"último elemento --> x[-1]:\", x[-1])\n",
        "print(\"penúltimo elemento --> x[-2]:\", x[-2])"
      ],
      "execution_count": 0,
      "outputs": []
    },
    {
      "cell_type": "code",
      "metadata": {
        "id": "b7c4ez_EvRsN",
        "colab_type": "code",
        "colab": {}
      },
      "source": [
        "print(\"todos los índices -->                                 \")\n",
        "print(\"x[:]: \", x[:])\n",
        "print(\"índice 1 al final de la lista -->                     \")\n",
        "print(\"x[1:]: \", x[1:])\n",
        "print(\"índice 1 al índice 2 (sin incluir el índice 2) -->    \")\n",
        "print(\"x[1:2]:\", x[1:2])\n",
        "print(\"índice 0 al último índice (sin incluir el último) --> \")\n",
        "print(\"x[:-1]:\", x[:-1])\n"
      ],
      "execution_count": 0,
      "outputs": []
    },
    {
      "cell_type": "code",
      "metadata": {
        "id": "4LIVZFG8vY7N",
        "colab_type": "code",
        "colab": {}
      },
      "source": [
        "# Tuplas\n",
        "x = (1,\"deep\",3)\n",
        "print(x)\n",
        "print(x[1])"
      ],
      "execution_count": 0,
      "outputs": []
    },
    {
      "cell_type": "code",
      "metadata": {
        "id": "G-EmZiDRvw7o",
        "colab_type": "code",
        "colab": {}
      },
      "source": [
        "x = x + (4,\"learning\")\n",
        "print(x)\n",
        "print(x[-1])"
      ],
      "execution_count": 0,
      "outputs": []
    },
    {
      "cell_type": "code",
      "metadata": {
        "id": "xck-19Uvv7Cz",
        "colab_type": "code",
        "colab": {}
      },
      "source": [
        "# Diccionarios\n",
        "persona = {'nombre': 'Jordi Torres',\n",
        "           'profesion': 'profesor'}\n",
        "print(persona)\n",
        "print(persona['nombre'])\n",
        "print(persona['profesion'])"
      ],
      "execution_count": 0,
      "outputs": []
    },
    {
      "cell_type": "code",
      "metadata": {
        "id": "E8RKQZ0JwVSs",
        "colab_type": "code",
        "colab": {}
      },
      "source": [
        "persona['profesion'] = 'investigador'\n",
        "print(persona)"
      ],
      "execution_count": 0,
      "outputs": []
    },
    {
      "cell_type": "code",
      "metadata": {
        "id": "xwy3UnLiwfk3",
        "colab_type": "code",
        "colab": {}
      },
      "source": [
        "persona['grupo'] = 24\n",
        "print(persona)"
      ],
      "execution_count": 0,
      "outputs": []
    },
    {
      "cell_type": "code",
      "metadata": {
        "id": "hvARO_W5wmLF",
        "colab_type": "code",
        "colab": {}
      },
      "source": [
        "print(len(persona))"
      ],
      "execution_count": 0,
      "outputs": []
    },
    {
      "cell_type": "code",
      "metadata": {
        "id": "4p-Njf2swrVY",
        "colab_type": "code",
        "colab": {}
      },
      "source": [
        "# Sentencia \"if\"\n",
        "x = 6.5\n",
        "if x < 5:\n",
        "   puntuacion = 'baja'\n",
        "elif x <= 7: # elif = else if\n",
        "   puntuacion = 'media'\n",
        "else:\n",
        "   puntuacion = 'alta'\n",
        "print(puntuacion)"
      ],
      "execution_count": 0,
      "outputs": []
    },
    {
      "cell_type": "code",
      "metadata": {
        "id": "6Q5Sogjgw5F5",
        "colab_type": "code",
        "colab": {}
      },
      "source": [
        "x = True\n",
        "if x:\n",
        "    print(\"se da la condición\")"
      ],
      "execution_count": 0,
      "outputs": []
    },
    {
      "cell_type": "code",
      "metadata": {
        "id": "NOEFybLoxHRJ",
        "colab_type": "code",
        "colab": {}
      },
      "source": [
        "a = 100\n",
        "if a >= 22:\n",
        "     print(\"Paris\")\n",
        "elif a <= 21:\n",
        "     print(\"Barcelona\")"
      ],
      "execution_count": 0,
      "outputs": []
    },
    {
      "cell_type": "code",
      "metadata": {
        "id": "yHd5gUSxxKLH",
        "colab_type": "code",
        "colab": {}
      },
      "source": [
        "b = 1\n",
        "print (\"Paris\" if b >= 92 else \"Barcelona\")"
      ],
      "execution_count": 0,
      "outputs": []
    },
    {
      "cell_type": "code",
      "metadata": {
        "id": "QLlFx2j-xXmZ",
        "colab_type": "code",
        "colab": {}
      },
      "source": [
        "# Ciclo \"for\"\n",
        "for a in range (1,10):\n",
        "    print(a)"
      ],
      "execution_count": 0,
      "outputs": []
    },
    {
      "cell_type": "code",
      "metadata": {
        "id": "28YkMpS1xidK",
        "colab_type": "code",
        "colab": {}
      },
      "source": [
        "universidades = [\"UPC\", \"UPM\", \"UPV\"]\n",
        "for universidad in universidades:\n",
        "    print(universidad)"
      ],
      "execution_count": 0,
      "outputs": []
    },
    {
      "cell_type": "code",
      "metadata": {
        "id": "H2n268AzyrBe",
        "colab_type": "code",
        "colab": {}
      },
      "source": [
        "for universidad in universidades:\n",
        "    if universidad == \"UPV\":\n",
        "        break\n",
        "    print(universidad)"
      ],
      "execution_count": 0,
      "outputs": []
    },
    {
      "cell_type": "code",
      "metadata": {
        "id": "N7w-x6wMyzF4",
        "colab_type": "code",
        "colab": {}
      },
      "source": [
        "for universidad in universidades:\n",
        "    if universidad == \"UPM\":\n",
        "        continue\n",
        "    print(universidad)"
      ],
      "execution_count": 0,
      "outputs": []
    },
    {
      "cell_type": "code",
      "metadata": {
        "id": "inLIoxiUy8tK",
        "colab_type": "code",
        "colab": {}
      },
      "source": [
        "# Ciclo \"while\"\n",
        "x = 3\n",
        "while x > 0:\n",
        "  x = x - 1\n",
        "  print (x)"
      ],
      "execution_count": 0,
      "outputs": []
    },
    {
      "cell_type": "code",
      "metadata": {
        "id": "O7MGPlSGzKnS",
        "colab_type": "code",
        "colab": {}
      },
      "source": [
        "# Funciones\n",
        "def mi_universidad(universidad = \"UPC\"):\n",
        "  y= \"Mi universidad es la \" + universidad\n",
        "  return (y)\n",
        "\n",
        "print(mi_universidad(\"UPM\"))\n",
        "print(mi_universidad(universidad =\"UPV\"))\n",
        "print(mi_universidad())"
      ],
      "execution_count": 0,
      "outputs": []
    },
    {
      "cell_type": "code",
      "metadata": {
        "id": "h5tcVOU6zpwR",
        "colab_type": "code",
        "colab": {}
      },
      "source": [
        "def foo():\n",
        "     a, b = 4, 5\n",
        "     return a, b\n",
        "\n",
        "foo()"
      ],
      "execution_count": 0,
      "outputs": []
    },
    {
      "cell_type": "code",
      "metadata": {
        "id": "OX1iwUe3z1DT",
        "colab_type": "code",
        "colab": {}
      },
      "source": [
        "fibonacci = (lambda x:1 if x <= 2 else\n",
        "             fibonacci(x-1) + fibonacci(x-2))\n",
        "\n",
        "fibonacci(10)"
      ],
      "execution_count": 0,
      "outputs": []
    },
    {
      "cell_type": "code",
      "metadata": {
        "id": "0a6i0WZM8pvA",
        "colab_type": "code",
        "colab": {}
      },
      "source": [
        "class Calculadora(object):\n",
        "    \"\"\"Clase de una calculadora\"\"\"\n",
        "\n",
        "    def __init__(self):\n",
        "      \"\"\"Inicializa la clase calculadora\"\"\"\n",
        "      self.valor = 0\n",
        "\n",
        "    def suma(self, n):\n",
        "      \"\"\"suma un numero n al valor\"\"\"\n",
        "      self.valor += n\n",
        "\n",
        "    def getValor(self):\n",
        "      \"\"\"obtiene el valor\"\"\"\n",
        "      return self.valor"
      ],
      "execution_count": 0,
      "outputs": []
    },
    {
      "cell_type": "code",
      "metadata": {
        "id": "S_jnQKpt89wS",
        "colab_type": "code",
        "colab": {}
      },
      "source": [
        "calc = Calculadora()\n",
        "calc.suma(2)\n",
        "print(calc.getValor())\n",
        "calc.suma(2)\n",
        "print(calc.getValor())"
      ],
      "execution_count": 0,
      "outputs": []
    },
    {
      "cell_type": "code",
      "metadata": {
        "id": "_PO17jbQA4Fq",
        "colab_type": "code",
        "colab": {}
      },
      "source": [
        "# Iterador\n",
        "\n",
        "vec = [1, 2, 3]\n",
        "it = iter(vec)\n",
        "\n",
        "next(it)"
      ],
      "execution_count": 0,
      "outputs": []
    },
    {
      "cell_type": "code",
      "metadata": {
        "id": "GR54L8dnBHd7",
        "colab_type": "code",
        "colab": {}
      },
      "source": [
        "next(it)"
      ],
      "execution_count": 0,
      "outputs": []
    },
    {
      "cell_type": "code",
      "metadata": {
        "id": "gNANxi2fBPxC",
        "colab_type": "code",
        "colab": {}
      },
      "source": [
        "next(it)"
      ],
      "execution_count": 0,
      "outputs": []
    },
    {
      "cell_type": "code",
      "metadata": {
        "id": "VO6_cuuUBbSk",
        "colab_type": "code",
        "colab": {}
      },
      "source": [
        "type(it)"
      ],
      "execution_count": 0,
      "outputs": []
    },
    {
      "cell_type": "code",
      "metadata": {
        "id": "7Yqq5neoBdtT",
        "colab_type": "code",
        "colab": {}
      },
      "source": [
        "# Decoradores\n",
        "\n",
        "def voy_a_imprimir_Hola():\n",
        "    print(\"Hola\")\n",
        "\n",
        "voy_a_imprimir_Hola()"
      ],
      "execution_count": 0,
      "outputs": []
    },
    {
      "cell_type": "code",
      "metadata": {
        "id": "dE2w6-A2CEbF",
        "colab_type": "code",
        "colab": {}
      },
      "source": [
        "def voy_a_imprimir_Hola():\n",
        "  print(\"Hola\")\n",
        "\n",
        "\n",
        "def my_decorator(func):\n",
        "  def wrapper():\n",
        "    print(\"[Aviso: voy a decir algo]\")\n",
        "    func()\n",
        "    print(\"[Aviso: ya he dicho algo]\")\n",
        "  return wrapper\n",
        "\n",
        "voy_a_imprimir_Hola = my_decorator(voy_a_imprimir_Hola)\n",
        "\n",
        "voy_a_imprimir_Hola ()"
      ],
      "execution_count": 0,
      "outputs": []
    },
    {
      "cell_type": "code",
      "metadata": {
        "id": "F57s5ncfCciJ",
        "colab_type": "code",
        "colab": {}
      },
      "source": [
        "@my_decorator\n",
        "def voy_a_imprimir_Hola():\n",
        "    print(\"Hola\")\n",
        "voy_a_imprimir_Hola ()\n"
      ],
      "execution_count": 0,
      "outputs": []
    }
  ]
}