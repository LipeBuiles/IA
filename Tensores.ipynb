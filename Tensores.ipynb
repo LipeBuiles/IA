{
  "nbformat": 4,
  "nbformat_minor": 0,
  "metadata": {
    "colab": {
      "name": "Tensores.ipynb",
      "provenance": [],
      "authorship_tag": "ABX9TyMzscTxx5kZMSrArYJeNVmd",
      "include_colab_link": true
    },
    "kernelspec": {
      "name": "python3",
      "display_name": "Python 3"
    }
  },
  "cells": [
    {
      "cell_type": "markdown",
      "metadata": {
        "id": "view-in-github",
        "colab_type": "text"
      },
      "source": [
        "<a href=\"https://colab.research.google.com/github/elpinchepastel/IA/blob/master/Tensores.ipynb\" target=\"_parent\"><img src=\"https://colab.research.google.com/assets/colab-badge.svg\" alt=\"Open In Colab\"/></a>"
      ]
    },
    {
      "cell_type": "code",
      "metadata": {
        "id": "PnBja7oNDlE4",
        "colab_type": "code",
        "colab": {}
      },
      "source": [
        ""
      ],
      "execution_count": 0,
      "outputs": []
    },
    {
      "cell_type": "markdown",
      "metadata": {
        "id": "rXrdivkGERIW",
        "colab_type": "text"
      },
      "source": [
        "**Tensor**\n",
        "\n",
        "---\n",
        "\n",
        "Keras usa un array multidimensional de NumPy como estructura básica de datos, y llama a esta estructura de datos «tensor». De manera resumida podríamos decir que un tensor tiene tres atributos principales: número de ejes, forma y tipo de datos. Veamos cada uno de ellos:\n",
        "\n",
        "\n",
        "\n",
        "*   Número de ejes (rank): a un tensor que contiene un solo número lo llamaremos scalar (o tensor 0-dimensional, o tensor 0D). Un array de números lo llamamos vector, o tensor 1D. Un array de vectores será una matriz (matrix), o tensor 2D. Si empaquetamos esta matriz en un nuevo array, obtenemos un tensor 3D, que podemos interpretar visualmente como un cubo de números. Empaquetando un tensor 3D en un array, podemos crear un tensor 4D, y así sucesivamente. En la librería NumPy de Python esto se llama ndim del tensor.\n",
        "\n",
        "*   Forma: se trata de una tupla de enteros que describen cuántas dimensiones tiene el tensor en cada eje. En la librería NumPy este atributo se llama shape. Un vector tiene un shape con un único elemento, por ejemplo «(5)», mientras que un escalar tiene un shape vacío «( )».\n",
        "\n",
        "*   Tipo de datos: este atributo indica el tipo de datos que contiene el tensor, que pueden ser por ejemplo uint8, float32, float64, etc. En raras ocasiones tenemos, en nuestro contexto, tensores de tipo char (nunca string). En la librería NumPy este atributo se llama dtype."
      ]
    },
    {
      "cell_type": "code",
      "metadata": {
        "id": "rVZ5n-7bEQWK",
        "colab_type": "code",
        "colab": {
          "base_uri": "https://localhost:8080/",
          "height": 102
        },
        "outputId": "91795421-2111-4e19-fdb3-cb788736f6dd"
      },
      "source": [
        "# Escalar o tensor 0D:\n",
        "\n",
        "import numpy as np\n",
        "\n",
        "x = np.array(8)\n",
        "print(\"x: \", x)\n",
        "print(\"x ndim: \", x.ndim)\n",
        "print(\"x shape:\", x.shape)\n",
        "print(\"x size: \", x.size)\n",
        "print(\"x dtype: \", x.dtype)"
      ],
      "execution_count": 1,
      "outputs": [
        {
          "output_type": "stream",
          "text": [
            "x:  8\n",
            "x ndim:  0\n",
            "x shape: ()\n",
            "x size:  1\n",
            "x dtype:  int64\n"
          ],
          "name": "stdout"
        }
      ]
    },
    {
      "cell_type": "code",
      "metadata": {
        "id": "ZB0LVLFEFk4A",
        "colab_type": "code",
        "colab": {
          "base_uri": "https://localhost:8080/",
          "height": 102
        },
        "outputId": "9fa2332c-9084-4053-9e29-55e36a8000e1"
      },
      "source": [
        "x = np.array([2.3 , 4.2 , 3.3, 1.8])\n",
        "print(\"x: \", x)\n",
        "print(\"x ndim: \", x.ndim)\n",
        "print(\"x shape:\", x.shape)\n",
        "print(\"x size: \", x.size)\n",
        "print(\"x dtype: \", x.dtype)"
      ],
      "execution_count": 2,
      "outputs": [
        {
          "output_type": "stream",
          "text": [
            "x:  [2.3 4.2 3.3 1.8]\n",
            "x ndim:  1\n",
            "x shape: (4,)\n",
            "x size:  4\n",
            "x dtype:  float64\n"
          ],
          "name": "stdout"
        }
      ]
    },
    {
      "cell_type": "code",
      "metadata": {
        "id": "jwBWNMlsFzj0",
        "colab_type": "code",
        "colab": {
          "base_uri": "https://localhost:8080/",
          "height": 153
        },
        "outputId": "d8922256-3c8f-4b68-908a-7bab37504020"
      },
      "source": [
        "# Matrix o tensor 2D:\n",
        "\n",
        "x = np.array([[1,2,3], [4,5,6], [7,8,9]])\n",
        "print(\"x:\\n\", x)\n",
        "print(\"x ndim: \", x.ndim)\n",
        "print(\"x shape:\", x.shape)\n",
        "print(\"x size: \", x.size)\n",
        "print(\"x dtype: \", x.dtype)"
      ],
      "execution_count": 3,
      "outputs": [
        {
          "output_type": "stream",
          "text": [
            "x:\n",
            " [[1 2 3]\n",
            " [4 5 6]\n",
            " [7 8 9]]\n",
            "x ndim:  2\n",
            "x shape: (3, 3)\n",
            "x size:  9\n",
            "x dtype:  int64\n"
          ],
          "name": "stdout"
        }
      ]
    },
    {
      "cell_type": "code",
      "metadata": {
        "id": "-6o384J4GNPu",
        "colab_type": "code",
        "colab": {
          "base_uri": "https://localhost:8080/",
          "height": 187
        },
        "outputId": "2460e892-a366-4788-9d3a-ae45b0cd838e"
      },
      "source": [
        "x = np.array([[[1,2],[3,4]],[[5,6],[7,8]]])\n",
        "print(\"x:\\n\", x)\n",
        "print(\"x ndim: \", x.ndim)\n",
        "print(\"x shape:\", x.shape)\n",
        "print(\"x size: \", x.size)\n",
        "print(\"x dtype: \", x.dtype)"
      ],
      "execution_count": 4,
      "outputs": [
        {
          "output_type": "stream",
          "text": [
            "x:\n",
            " [[[1 2]\n",
            "  [3 4]]\n",
            "\n",
            " [[5 6]\n",
            "  [7 8]]]\n",
            "x ndim:  3\n",
            "x shape: (2, 2, 2)\n",
            "x size:  8\n",
            "x dtype:  int64\n"
          ],
          "name": "stdout"
        }
      ]
    },
    {
      "cell_type": "code",
      "metadata": {
        "id": "mBXN-XfQGXxP",
        "colab_type": "code",
        "colab": {
          "base_uri": "https://localhost:8080/",
          "height": 289
        },
        "outputId": "ca0efc51-fc54-41bc-9c0d-b7f65ad9ea4a"
      },
      "source": [
        "# Creación rapida de tensores\n",
        "\n",
        "print(\"np.zeros((3,3)):\\n\", np.zeros((3,3)))\n",
        "print(\"np.ones((3,3)):\\n\", np.ones((3,3)))\n",
        "print(\"np.eye((3)): (identity matrix)\\n\", np.eye((3)))\n",
        "print(\"np.random.random((3,3)):\\n\", np.random.random((3,3)))"
      ],
      "execution_count": 6,
      "outputs": [
        {
          "output_type": "stream",
          "text": [
            "np.zeros((3,3)):\n",
            " [[0. 0. 0.]\n",
            " [0. 0. 0.]\n",
            " [0. 0. 0.]]\n",
            "np.ones((3,3)):\n",
            " [[1. 1. 1.]\n",
            " [1. 1. 1.]\n",
            " [1. 1. 1.]]\n",
            "np.eye((3)): (identity matrix)\n",
            " [[1. 0. 0.]\n",
            " [0. 1. 0.]\n",
            " [0. 0. 1.]]\n",
            "np.random.random((3,3)):\n",
            " [[0.83500954 0.64831318 0.24731839]\n",
            " [0.97791918 0.10239127 0.37496564]\n",
            " [0.43084474 0.04992379 0.02150874]]\n"
          ],
          "name": "stdout"
        }
      ]
    },
    {
      "cell_type": "code",
      "metadata": {
        "id": "dg5NGcUoGlEZ",
        "colab_type": "code",
        "colab": {}
      },
      "source": [
        ""
      ],
      "execution_count": 0,
      "outputs": []
    }
  ]
}